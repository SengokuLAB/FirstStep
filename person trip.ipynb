{
 "cells": [
  {
   "cell_type": "code",
   "execution_count": 1,
   "metadata": {},
   "outputs": [],
   "source": [
    "import pandas as pd"
   ]
  },
  {
   "cell_type": "code",
   "execution_count": 2,
   "metadata": {},
   "outputs": [
    {
     "data": {
      "text/html": [
       "<div>\n",
       "<style scoped>\n",
       "    .dataframe tbody tr th:only-of-type {\n",
       "        vertical-align: middle;\n",
       "    }\n",
       "\n",
       "    .dataframe tbody tr th {\n",
       "        vertical-align: top;\n",
       "    }\n",
       "\n",
       "    .dataframe thead th {\n",
       "        text-align: right;\n",
       "    }\n",
       "</style>\n",
       "<table border=\"1\" class=\"dataframe\">\n",
       "  <thead>\n",
       "    <tr style=\"text-align: right;\">\n",
       "      <th></th>\n",
       "      <th>S05a_001</th>\n",
       "      <th>S05a_002</th>\n",
       "      <th>S05a_003</th>\n",
       "      <th>S05a_004</th>\n",
       "      <th>S05a_005</th>\n",
       "      <th>S05a_006</th>\n",
       "      <th>S05a_007</th>\n",
       "      <th>S05a_008</th>\n",
       "      <th>S05a_009</th>\n",
       "      <th>train</th>\n",
       "      <th>...</th>\n",
       "      <th>S05a_029</th>\n",
       "      <th>S05a_030</th>\n",
       "      <th>S05a_031</th>\n",
       "      <th>S05a_032</th>\n",
       "      <th>S05a_033</th>\n",
       "      <th>foot</th>\n",
       "      <th>S05a_035</th>\n",
       "      <th>station</th>\n",
       "      <th>elementary</th>\n",
       "      <th>juniorhigh</th>\n",
       "    </tr>\n",
       "  </thead>\n",
       "  <tbody>\n",
       "    <tr>\n",
       "      <th>0</th>\n",
       "      <td>1</td>\n",
       "      <td>2008</td>\n",
       "      <td>1</td>\n",
       "      <td>123</td>\n",
       "      <td>36732</td>\n",
       "      <td>6360</td>\n",
       "      <td>16336</td>\n",
       "      <td>6341</td>\n",
       "      <td>26432</td>\n",
       "      <td>92201</td>\n",
       "      <td>...</td>\n",
       "      <td>6021</td>\n",
       "      <td>6853</td>\n",
       "      <td>36319</td>\n",
       "      <td>2419</td>\n",
       "      <td>37561</td>\n",
       "      <td>89173</td>\n",
       "      <td>256026</td>\n",
       "      <td>42</td>\n",
       "      <td>0</td>\n",
       "      <td>0</td>\n",
       "    </tr>\n",
       "    <tr>\n",
       "      <th>1</th>\n",
       "      <td>1</td>\n",
       "      <td>2008</td>\n",
       "      <td>1</td>\n",
       "      <td>124</td>\n",
       "      <td>3568</td>\n",
       "      <td>892</td>\n",
       "      <td>2180</td>\n",
       "      <td>902</td>\n",
       "      <td>6426</td>\n",
       "      <td>13968</td>\n",
       "      <td>...</td>\n",
       "      <td>477</td>\n",
       "      <td>651</td>\n",
       "      <td>2526</td>\n",
       "      <td>188</td>\n",
       "      <td>2670</td>\n",
       "      <td>6512</td>\n",
       "      <td>33954</td>\n",
       "      <td>0</td>\n",
       "      <td>0</td>\n",
       "      <td>0</td>\n",
       "    </tr>\n",
       "    <tr>\n",
       "      <th>2</th>\n",
       "      <td>1</td>\n",
       "      <td>2008</td>\n",
       "      <td>1</td>\n",
       "      <td>130</td>\n",
       "      <td>22260</td>\n",
       "      <td>3694</td>\n",
       "      <td>8259</td>\n",
       "      <td>2609</td>\n",
       "      <td>9703</td>\n",
       "      <td>46525</td>\n",
       "      <td>...</td>\n",
       "      <td>3007</td>\n",
       "      <td>3130</td>\n",
       "      <td>16209</td>\n",
       "      <td>932</td>\n",
       "      <td>15997</td>\n",
       "      <td>39275</td>\n",
       "      <td>131513</td>\n",
       "      <td>4</td>\n",
       "      <td>5</td>\n",
       "      <td>3</td>\n",
       "    </tr>\n",
       "    <tr>\n",
       "      <th>3</th>\n",
       "      <td>1</td>\n",
       "      <td>2008</td>\n",
       "      <td>1</td>\n",
       "      <td>131</td>\n",
       "      <td>29093</td>\n",
       "      <td>5153</td>\n",
       "      <td>12648</td>\n",
       "      <td>7234</td>\n",
       "      <td>25663</td>\n",
       "      <td>79791</td>\n",
       "      <td>...</td>\n",
       "      <td>5257</td>\n",
       "      <td>8285</td>\n",
       "      <td>31119</td>\n",
       "      <td>1454</td>\n",
       "      <td>32615</td>\n",
       "      <td>78730</td>\n",
       "      <td>273717</td>\n",
       "      <td>10</td>\n",
       "      <td>10</td>\n",
       "      <td>4</td>\n",
       "    </tr>\n",
       "    <tr>\n",
       "      <th>4</th>\n",
       "      <td>1</td>\n",
       "      <td>2008</td>\n",
       "      <td>1</td>\n",
       "      <td>132</td>\n",
       "      <td>7314</td>\n",
       "      <td>1543</td>\n",
       "      <td>5807</td>\n",
       "      <td>4054</td>\n",
       "      <td>21689</td>\n",
       "      <td>40407</td>\n",
       "      <td>...</td>\n",
       "      <td>1685</td>\n",
       "      <td>2248</td>\n",
       "      <td>8083</td>\n",
       "      <td>458</td>\n",
       "      <td>8496</td>\n",
       "      <td>20970</td>\n",
       "      <td>133225</td>\n",
       "      <td>8</td>\n",
       "      <td>6</td>\n",
       "      <td>3</td>\n",
       "    </tr>\n",
       "  </tbody>\n",
       "</table>\n",
       "<p>5 rows × 38 columns</p>\n",
       "</div>"
      ],
      "text/plain": [
       "   S05a_001  S05a_002  S05a_003  S05a_004  S05a_005  S05a_006  S05a_007  \\\n",
       "0         1      2008         1       123     36732      6360     16336   \n",
       "1         1      2008         1       124      3568       892      2180   \n",
       "2         1      2008         1       130     22260      3694      8259   \n",
       "3         1      2008         1       131     29093      5153     12648   \n",
       "4         1      2008         1       132      7314      1543      5807   \n",
       "\n",
       "   S05a_008  S05a_009  train     ...      S05a_029  S05a_030  S05a_031  \\\n",
       "0      6341     26432  92201     ...          6021      6853     36319   \n",
       "1       902      6426  13968     ...           477       651      2526   \n",
       "2      2609      9703  46525     ...          3007      3130     16209   \n",
       "3      7234     25663  79791     ...          5257      8285     31119   \n",
       "4      4054     21689  40407     ...          1685      2248      8083   \n",
       "\n",
       "   S05a_032  S05a_033   foot  S05a_035  station  elementary  juniorhigh  \n",
       "0      2419     37561  89173    256026       42           0           0  \n",
       "1       188      2670   6512     33954        0           0           0  \n",
       "2       932     15997  39275    131513        4           5           3  \n",
       "3      1454     32615  78730    273717       10          10           4  \n",
       "4       458      8496  20970    133225        8           6           3  \n",
       "\n",
       "[5 rows x 38 columns]"
      ]
     },
     "execution_count": 2,
     "metadata": {},
     "output_type": "execute_result"
    }
   ],
   "source": [
    "persontrip = pd.read_csv('person trip(station, elementary school, and junior high school).csv')\n",
    "persontrip.head()"
   ]
  },
  {
   "cell_type": "code",
   "execution_count": 3,
   "metadata": {},
   "outputs": [
    {
     "data": {
      "text/html": [
       "<div>\n",
       "<style scoped>\n",
       "    .dataframe tbody tr th:only-of-type {\n",
       "        vertical-align: middle;\n",
       "    }\n",
       "\n",
       "    .dataframe tbody tr th {\n",
       "        vertical-align: top;\n",
       "    }\n",
       "\n",
       "    .dataframe thead th {\n",
       "        text-align: right;\n",
       "    }\n",
       "</style>\n",
       "<table border=\"1\" class=\"dataframe\">\n",
       "  <thead>\n",
       "    <tr style=\"text-align: right;\">\n",
       "      <th></th>\n",
       "      <th>foot</th>\n",
       "      <th>train</th>\n",
       "      <th>bus</th>\n",
       "      <th>bike</th>\n",
       "      <th>station</th>\n",
       "      <th>elementary</th>\n",
       "    </tr>\n",
       "  </thead>\n",
       "  <tbody>\n",
       "    <tr>\n",
       "      <th>0</th>\n",
       "      <td>89173</td>\n",
       "      <td>92201</td>\n",
       "      <td>2892</td>\n",
       "      <td>53221</td>\n",
       "      <td>42</td>\n",
       "      <td>0</td>\n",
       "    </tr>\n",
       "    <tr>\n",
       "      <th>1</th>\n",
       "      <td>6512</td>\n",
       "      <td>13968</td>\n",
       "      <td>1645</td>\n",
       "      <td>4768</td>\n",
       "      <td>0</td>\n",
       "      <td>0</td>\n",
       "    </tr>\n",
       "    <tr>\n",
       "      <th>2</th>\n",
       "      <td>39275</td>\n",
       "      <td>46525</td>\n",
       "      <td>7262</td>\n",
       "      <td>23923</td>\n",
       "      <td>4</td>\n",
       "      <td>5</td>\n",
       "    </tr>\n",
       "    <tr>\n",
       "      <th>3</th>\n",
       "      <td>78730</td>\n",
       "      <td>79791</td>\n",
       "      <td>13249</td>\n",
       "      <td>74395</td>\n",
       "      <td>10</td>\n",
       "      <td>10</td>\n",
       "    </tr>\n",
       "    <tr>\n",
       "      <th>4</th>\n",
       "      <td>20970</td>\n",
       "      <td>40407</td>\n",
       "      <td>3543</td>\n",
       "      <td>35177</td>\n",
       "      <td>8</td>\n",
       "      <td>6</td>\n",
       "    </tr>\n",
       "  </tbody>\n",
       "</table>\n",
       "</div>"
      ],
      "text/plain": [
       "    foot  train    bus   bike  station  elementary\n",
       "0  89173  92201   2892  53221       42           0\n",
       "1   6512  13968   1645   4768        0           0\n",
       "2  39275  46525   7262  23923        4           5\n",
       "3  78730  79791  13249  74395       10          10\n",
       "4  20970  40407   3543  35177        8           6"
      ]
     },
     "execution_count": 3,
     "metadata": {},
     "output_type": "execute_result"
    }
   ],
   "source": [
    "columns = ['foot','train','bus','bike','station','elementary']\n",
    "persontrip = persontrip[columns]\n",
    "persontrip.head()"
   ]
  },
  {
   "cell_type": "code",
   "execution_count": 4,
   "metadata": {},
   "outputs": [],
   "source": [
    "from pandas.plotting import scatter_matrix"
   ]
  },
  {
   "cell_type": "code",
   "execution_count": 6,
   "metadata": {},
   "outputs": [
    {
     "data": {
      "text/plain": [
       "array([[<matplotlib.axes._subplots.AxesSubplot object at 0x0000021A954B0CF8>,\n",
       "        <matplotlib.axes._subplots.AxesSubplot object at 0x0000021A9551CA20>,\n",
       "        <matplotlib.axes._subplots.AxesSubplot object at 0x0000021A95557A20>,\n",
       "        <matplotlib.axes._subplots.AxesSubplot object at 0x0000021A9558CF60>,\n",
       "        <matplotlib.axes._subplots.AxesSubplot object at 0x0000021A955C7F60>,\n",
       "        <matplotlib.axes._subplots.AxesSubplot object at 0x0000021A955C7F98>],\n",
       "       [<matplotlib.axes._subplots.AxesSubplot object at 0x0000021A95638400>,\n",
       "        <matplotlib.axes._subplots.AxesSubplot object at 0x0000021A95655278>,\n",
       "        <matplotlib.axes._subplots.AxesSubplot object at 0x0000021A956AC390>,\n",
       "        <matplotlib.axes._subplots.AxesSubplot object at 0x0000021A956450F0>,\n",
       "        <matplotlib.axes._subplots.AxesSubplot object at 0x0000021A93CAE7B8>,\n",
       "        <matplotlib.axes._subplots.AxesSubplot object at 0x0000021A95720128>],\n",
       "       [<matplotlib.axes._subplots.AxesSubplot object at 0x0000021A95756668>,\n",
       "        <matplotlib.axes._subplots.AxesSubplot object at 0x0000021A9578FBA8>,\n",
       "        <matplotlib.axes._subplots.AxesSubplot object at 0x0000021A957BD9E8>,\n",
       "        <matplotlib.axes._subplots.AxesSubplot object at 0x0000021A957F59E8>,\n",
       "        <matplotlib.axes._subplots.AxesSubplot object at 0x0000021A9582E9E8>,\n",
       "        <matplotlib.axes._subplots.AxesSubplot object at 0x0000021A9586A9E8>],\n",
       "       [<matplotlib.axes._subplots.AxesSubplot object at 0x0000021A958040F0>,\n",
       "        <matplotlib.axes._subplots.AxesSubplot object at 0x0000021A958D7588>,\n",
       "        <matplotlib.axes._subplots.AxesSubplot object at 0x0000021A95914588>,\n",
       "        <matplotlib.axes._subplots.AxesSubplot object at 0x0000021A9594A588>,\n",
       "        <matplotlib.axes._subplots.AxesSubplot object at 0x0000021A95983AC8>,\n",
       "        <matplotlib.axes._subplots.AxesSubplot object at 0x0000021A959B90B8>],\n",
       "       [<matplotlib.axes._subplots.AxesSubplot object at 0x0000021A959F20B8>,\n",
       "        <matplotlib.axes._subplots.AxesSubplot object at 0x0000021A95A2E0B8>,\n",
       "        <matplotlib.axes._subplots.AxesSubplot object at 0x0000021A95A655F8>,\n",
       "        <matplotlib.axes._subplots.AxesSubplot object at 0x0000021A95A8B9E8>,\n",
       "        <matplotlib.axes._subplots.AxesSubplot object at 0x0000021A95ACA9E8>,\n",
       "        <matplotlib.axes._subplots.AxesSubplot object at 0x0000021A95B029E8>],\n",
       "       [<matplotlib.axes._subplots.AxesSubplot object at 0x0000021A95B39F28>,\n",
       "        <matplotlib.axes._subplots.AxesSubplot object at 0x0000021A95B46F60>,\n",
       "        <matplotlib.axes._subplots.AxesSubplot object at 0x0000021A95BAB4A8>,\n",
       "        <matplotlib.axes._subplots.AxesSubplot object at 0x0000021A95BE43C8>,\n",
       "        <matplotlib.axes._subplots.AxesSubplot object at 0x0000021A95C02240>,\n",
       "        <matplotlib.axes._subplots.AxesSubplot object at 0x0000021A95C57358>]],\n",
       "      dtype=object)"
      ]
     },
     "execution_count": 6,
     "metadata": {},
     "output_type": "execute_result"
    },
    {
     "data": {
      "image/png": "[encoded data removed]",
      "text/plain": [
       "<matplotlib.figure.Figure at 0x21a954b05f8>"
      ]
     },
     "metadata": {},
     "output_type": "display_data"
    }
   ],
   "source": [
    "scatter_matrix(persontrip)"
   ]
  },
  {
   "cell_type": "code",
   "execution_count": 7,
   "metadata": {},
   "outputs": [
    {
     "data": {
      "text/html": [
       "<div>\n",
       "<style scoped>\n",
       "    .dataframe tbody tr th:only-of-type {\n",
       "        vertical-align: middle;\n",
       "    }\n",
       "\n",
       "    .dataframe tbody tr th {\n",
       "        vertical-align: top;\n",
       "    }\n",
       "\n",
       "    .dataframe thead th {\n",
       "        text-align: right;\n",
       "    }\n",
       "</style>\n",
       "<table border=\"1\" class=\"dataframe\">\n",
       "  <thead>\n",
       "    <tr style=\"text-align: right;\">\n",
       "      <th></th>\n",
       "      <th>foot</th>\n",
       "      <th>train</th>\n",
       "      <th>bus</th>\n",
       "      <th>bike</th>\n",
       "      <th>station</th>\n",
       "      <th>elementary</th>\n",
       "    </tr>\n",
       "  </thead>\n",
       "  <tbody>\n",
       "    <tr>\n",
       "      <th>foot</th>\n",
       "      <td>1.000</td>\n",
       "      <td>0.616</td>\n",
       "      <td>0.711</td>\n",
       "      <td>0.597</td>\n",
       "      <td>0.341</td>\n",
       "      <td>0.485</td>\n",
       "    </tr>\n",
       "    <tr>\n",
       "      <th>train</th>\n",
       "      <td>0.616</td>\n",
       "      <td>1.000</td>\n",
       "      <td>0.321</td>\n",
       "      <td>-0.094</td>\n",
       "      <td>0.713</td>\n",
       "      <td>-0.148</td>\n",
       "    </tr>\n",
       "    <tr>\n",
       "      <th>bus</th>\n",
       "      <td>0.711</td>\n",
       "      <td>0.321</td>\n",
       "      <td>1.000</td>\n",
       "      <td>0.490</td>\n",
       "      <td>0.098</td>\n",
       "      <td>0.422</td>\n",
       "    </tr>\n",
       "    <tr>\n",
       "      <th>bike</th>\n",
       "      <td>0.597</td>\n",
       "      <td>-0.094</td>\n",
       "      <td>0.490</td>\n",
       "      <td>1.000</td>\n",
       "      <td>-0.226</td>\n",
       "      <td>0.760</td>\n",
       "    </tr>\n",
       "    <tr>\n",
       "      <th>station</th>\n",
       "      <td>0.341</td>\n",
       "      <td>0.713</td>\n",
       "      <td>0.098</td>\n",
       "      <td>-0.226</td>\n",
       "      <td>1.000</td>\n",
       "      <td>-0.329</td>\n",
       "    </tr>\n",
       "    <tr>\n",
       "      <th>elementary</th>\n",
       "      <td>0.485</td>\n",
       "      <td>-0.148</td>\n",
       "      <td>0.422</td>\n",
       "      <td>0.760</td>\n",
       "      <td>-0.329</td>\n",
       "      <td>1.000</td>\n",
       "    </tr>\n",
       "  </tbody>\n",
       "</table>\n",
       "</div>"
      ],
      "text/plain": [
       "             foot  train    bus   bike  station  elementary\n",
       "foot        1.000  0.616  0.711  0.597    0.341       0.485\n",
       "train       0.616  1.000  0.321 -0.094    0.713      -0.148\n",
       "bus         0.711  0.321  1.000  0.490    0.098       0.422\n",
       "bike        0.597 -0.094  0.490  1.000   -0.226       0.760\n",
       "station     0.341  0.713  0.098 -0.226    1.000      -0.329\n",
       "elementary  0.485 -0.148  0.422  0.760   -0.329       1.000"
      ]
     },
     "execution_count": 7,
     "metadata": {},
     "output_type": "execute_result"
    }
   ],
   "source": [
    "persontrip.corr().round(3)"
   ]
  },
  {
   "cell_type": "code",
   "execution_count": 8,
   "metadata": {},
   "outputs": [],
   "source": [
    "from scipy.stats import pearsonr, linregress"
   ]
  },
  {
   "cell_type": "code",
   "execution_count": 9,
   "metadata": {},
   "outputs": [
    {
     "data": {
      "text/plain": [
       "(0.6160371805478145, 1.1747822961163134e-35)"
      ]
     },
     "execution_count": 9,
     "metadata": {},
     "output_type": "execute_result"
    }
   ],
   "source": [
    "pearsonr(persontrip['foot'],persontrip['train'])"
   ]
  },
  {
   "cell_type": "code",
   "execution_count": 10,
   "metadata": {},
   "outputs": [
    {
     "data": {
      "text/plain": [
       "(0.7106600684306732, 1.0169489986038211e-51)"
      ]
     },
     "execution_count": 10,
     "metadata": {},
     "output_type": "execute_result"
    }
   ],
   "source": [
    "pearsonr(persontrip['foot'],persontrip['bus'])"
   ]
  },
  {
   "cell_type": "code",
   "execution_count": 11,
   "metadata": {},
   "outputs": [
    {
     "data": {
      "text/plain": [
       "(0.5969508215986082, 4.7487778893754455e-33)"
      ]
     },
     "execution_count": 11,
     "metadata": {},
     "output_type": "execute_result"
    }
   ],
   "source": [
    "pearsonr(persontrip['foot'],persontrip['bike'])"
   ]
  },
  {
   "cell_type": "code",
   "execution_count": 12,
   "metadata": {},
   "outputs": [
    {
     "data": {
      "text/plain": [
       "(0.3413313026072411, 2.154786464705523e-10)"
      ]
     },
     "execution_count": 12,
     "metadata": {},
     "output_type": "execute_result"
    }
   ],
   "source": [
    "pearsonr(persontrip['foot'],persontrip['station'])"
   ]
  },
  {
   "cell_type": "code",
   "execution_count": 13,
   "metadata": {},
   "outputs": [
    {
     "data": {
      "text/plain": [
       "(0.48539990067782374, 8.605267724639115e-21)"
      ]
     },
     "execution_count": 13,
     "metadata": {},
     "output_type": "execute_result"
    }
   ],
   "source": [
    "pearsonr(persontrip['foot'],persontrip['elementary'])"
   ]
  },
  {
   "cell_type": "code",
   "execution_count": 14,
   "metadata": {},
   "outputs": [],
   "source": [
    "from sklearn import linear_model"
   ]
  },
  {
   "cell_type": "code",
   "execution_count": 15,
   "metadata": {
    "scrolled": false
   },
   "outputs": [
    {
     "name": "stdout",
     "output_type": "stream",
     "text": [
      "   Coefficients        Name\n",
      "0      0.152994       train\n",
      "2      0.407600        bike\n",
      "1      1.420090         bus\n",
      "3     69.108655     station\n",
      "4    790.626213  elementary\n",
      "3057.31823248024\n"
     ]
    }
   ],
   "source": [
    "clf = linear_model.LinearRegression()\n",
    "\n",
    "variable = persontrip.drop('foot',axis=1)\n",
    "x = variable.as_matrix()\n",
    "\n",
    "y = persontrip['foot'].as_matrix()\n",
    "\n",
    "clf.fit(x, y)\n",
    "\n",
    "print(pd.DataFrame({\"Name\":variable.columns,\n",
    "                    \"Coefficients\":clf.coef_}).sort_values(by='Coefficients') )\n",
    "\n",
    "print(clf.intercept_)"
   ]
  },
  {
   "cell_type": "code",
   "execution_count": 16,
   "metadata": {},
   "outputs": [],
   "source": [
    "import numpy as np"
   ]
  },
  {
   "cell_type": "code",
   "execution_count": 17,
   "metadata": {},
   "outputs": [
    {
     "data": {
      "text/html": [
       "<div>\n",
       "<style scoped>\n",
       "    .dataframe tbody tr th:only-of-type {\n",
       "        vertical-align: middle;\n",
       "    }\n",
       "\n",
       "    .dataframe tbody tr th {\n",
       "        vertical-align: top;\n",
       "    }\n",
       "\n",
       "    .dataframe thead th {\n",
       "        text-align: right;\n",
       "    }\n",
       "</style>\n",
       "<table border=\"1\" class=\"dataframe\">\n",
       "  <thead>\n",
       "    <tr style=\"text-align: right;\">\n",
       "      <th></th>\n",
       "      <th>foot</th>\n",
       "      <th>train</th>\n",
       "      <th>bus</th>\n",
       "      <th>bike</th>\n",
       "      <th>station</th>\n",
       "      <th>elementary</th>\n",
       "    </tr>\n",
       "  </thead>\n",
       "  <tbody>\n",
       "    <tr>\n",
       "      <th>0</th>\n",
       "      <td>0.383667</td>\n",
       "      <td>0.013533</td>\n",
       "      <td>-0.125612</td>\n",
       "      <td>0.127212</td>\n",
       "      <td>0.102027</td>\n",
       "      <td>-0.267589</td>\n",
       "    </tr>\n",
       "    <tr>\n",
       "      <th>1</th>\n",
       "      <td>-0.357036</td>\n",
       "      <td>-0.148470</td>\n",
       "      <td>-0.173897</td>\n",
       "      <td>-0.202679</td>\n",
       "      <td>-0.193748</td>\n",
       "      <td>-0.267589</td>\n",
       "    </tr>\n",
       "    <tr>\n",
       "      <th>2</th>\n",
       "      <td>-0.063455</td>\n",
       "      <td>-0.081052</td>\n",
       "      <td>0.043597</td>\n",
       "      <td>-0.072263</td>\n",
       "      <td>-0.165579</td>\n",
       "      <td>-0.075281</td>\n",
       "    </tr>\n",
       "    <tr>\n",
       "      <th>3</th>\n",
       "      <td>0.290090</td>\n",
       "      <td>-0.012165</td>\n",
       "      <td>0.275418</td>\n",
       "      <td>0.271374</td>\n",
       "      <td>-0.123325</td>\n",
       "      <td>0.117026</td>\n",
       "    </tr>\n",
       "    <tr>\n",
       "      <th>4</th>\n",
       "      <td>-0.227482</td>\n",
       "      <td>-0.093721</td>\n",
       "      <td>-0.100405</td>\n",
       "      <td>0.004360</td>\n",
       "      <td>-0.137410</td>\n",
       "      <td>-0.036820</td>\n",
       "    </tr>\n",
       "  </tbody>\n",
       "</table>\n",
       "</div>"
      ],
      "text/plain": [
       "       foot     train       bus      bike   station  elementary\n",
       "0  0.383667  0.013533 -0.125612  0.127212  0.102027   -0.267589\n",
       "1 -0.357036 -0.148470 -0.173897 -0.202679 -0.193748   -0.267589\n",
       "2 -0.063455 -0.081052  0.043597 -0.072263 -0.165579   -0.075281\n",
       "3  0.290090 -0.012165  0.275418  0.271374 -0.123325    0.117026\n",
       "4 -0.227482 -0.093721 -0.100405  0.004360 -0.137410   -0.036820"
      ]
     },
     "execution_count": 17,
     "metadata": {},
     "output_type": "execute_result"
    }
   ],
   "source": [
    "persontrip2 = persontrip.apply(lambda x: (x - np.mean(x)) / (np.max(x) - np.min(x)))\n",
    "persontrip2.head()"
   ]
  },
  {
   "cell_type": "code",
   "execution_count": 18,
   "metadata": {},
   "outputs": [
    {
     "name": "stdout",
     "output_type": "stream",
     "text": [
      "   Coefficients        Name\n",
      "3      0.087936     station\n",
      "4      0.184199  elementary\n",
      "1      0.328637         bus\n",
      "2      0.536449        bike\n",
      "0      0.662040       train\n",
      "3.3162305656818055e-17\n"
     ]
    }
   ],
   "source": [
    "clf = linear_model.LinearRegression()\n",
    "\n",
    "variable2 = persontrip2.drop(\"foot\", axis=1)\n",
    "x = variable2.as_matrix()\n",
    " \n",
    "y = persontrip2['foot'].as_matrix()\n",
    " \n",
    "clf.fit(x, y)\n",
    "  \n",
    "print(pd.DataFrame({\"Name\":variable2.columns,\n",
    "                    \"Coefficients\":np.abs(clf.coef_)}).sort_values(by='Coefficients') )\n",
    " \n",
    "print(clf.intercept_)"
   ]
  },
  {
   "cell_type": "code",
   "execution_count": null,
   "metadata": {},
   "outputs": [],
   "source": []
  }
 ],
 "metadata": {
  "kernelspec": {
   "display_name": "Python 3",
   "language": "python",
   "name": "python3"
  },
  "language_info": {
   "codemirror_mode": {
    "name": "ipython",
    "version": 3
   },
   "file_extension": ".py",
   "mimetype": "text/x-python",
   "name": "python",
   "nbconvert_exporter": "python",
   "pygments_lexer": "ipython3",
   "version": "3.6.4"
  }
 },
 "nbformat": 4,
 "nbformat_minor": 2
}
