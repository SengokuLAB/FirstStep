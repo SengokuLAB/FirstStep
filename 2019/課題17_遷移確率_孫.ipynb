{
 "cells": [
  {
   "cell_type": "code",
   "execution_count": 1,
   "metadata": {},
   "outputs": [
    {
     "name": "stdout",
     "output_type": "stream",
     "text": [
      "probability 0.100713±0.0003227457138302472\n"
     ]
    }
   ],
   "source": [
    "from fractions import Fraction as F\n",
    "\n",
    "import statistics as stati\n",
    "import math\n",
    "import random\n",
    "\n",
    "trans = {\n",
    "    'A': ['A','C','B','C','D','B','B'],\n",
    "    'B': ['B','C','B','C','D','C','B'],\n",
    "    'C': ['C','C','C','D','D','C','C'],\n",
    "    'D': ['D','D','D','D','D','D','D']\n",
    "}\n",
    "\n",
    "#simulates once and returns the number of move (from X to reach Y).\n",
    "#if the number of move should be more than n, it returns n+1.\n",
    "#in this problem, X='A', Y='D', n=5\n",
    "def sim(X, Y, n): \n",
    "    cnt = 0\n",
    "    state = X\n",
    "    while cnt <= n:\n",
    "        if state == Y:\n",
    "            return cnt\n",
    "        cnt += 1\n",
    "        \n",
    "        random.seed()\n",
    "        dice = random.randint(1,6)\n",
    "        state = trans[state][dice]\n",
    "    return n+1\n",
    "\n",
    "#calls sim('A','D',5) N times and get the probability\n",
    "def sim_set(M):\n",
    "    sum = 0\n",
    "    for i in range(M):\n",
    "        g = 5 #if g = 1, the probability should converge into 1/6 ~ 16.67%.\n",
    "        result = sim('A','D',g)\n",
    "        if result == g:\n",
    "            sum += 1\n",
    "    return F(sum, M)\n",
    "\n",
    "#calls sim_set() 1000 times and estimate the probability\n",
    "N = 1000\n",
    "data = [sim_set(1000) for i in range(N)]\n",
    "heikin = stati.mean(data)\n",
    "gosa = stati.stdev(data) / math.sqrt(N)\n",
    "\n",
    "print('probability {0}±{1}'.format(float(heikin),float(gosa)))"
   ]
  },
  {
   "cell_type": "code",
   "execution_count": 73,
   "metadata": {},
   "outputs": [
    {
     "name": "stdout",
     "output_type": "stream",
     "text": [
      "[Fraction(0, 1) Fraction(1, 162) Fraction(199, 972) Fraction(49, 486)\n",
      " Fraction(223, 324)]\n",
      "0.10082\n"
     ]
    }
   ],
   "source": [
    "from fractions import Fraction as F\n",
    "\n",
    "import numpy as np\n",
    "\n",
    "# on the next step of reaching 'D', it will move into the dead state.\n",
    "trans = np.array([\n",
    "    [F(0,6), F(3,6), F(2,6), F(1,6), F(0,6)],\n",
    "    [F(0,6), F(2,6), F(3,6), F(1,6), F(0,6)],\n",
    "    [F(0,6), F(0,6), F(4,6), F(2,6), F(0,6)],\n",
    "    [F(0,6), F(0,6), F(0,6), F(0,6), F(6,6)],\n",
    "    [F(0,6), F(0,6), F(0,6), F(0,6), F(6,6)]])\n",
    "\n",
    "state = np.array([1,0,0,0,0])\n",
    "for i in range(5):\n",
    "    state = np.dot(state,trans)\n",
    "\n",
    "print(state)\n",
    "state_ = [round(float(entry),5) for entry in state]\n",
    "print(state_[3]) # 'D'"
   ]
  },
  {
   "cell_type": "code",
   "execution_count": null,
   "metadata": {},
   "outputs": [],
   "source": []
  }
 ],
 "metadata": {
  "kernelspec": {
   "display_name": "Python 3",
   "language": "python",
   "name": "python3"
  },
  "language_info": {
   "codemirror_mode": {
    "name": "ipython",
    "version": 3
   },
   "file_extension": ".py",
   "mimetype": "text/x-python",
   "name": "python",
   "nbconvert_exporter": "python",
   "pygments_lexer": "ipython3",
   "version": "3.7.3"
  }
 },
 "nbformat": 4,
 "nbformat_minor": 2
}
